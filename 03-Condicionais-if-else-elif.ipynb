{
 "cells": [
  {
   "cell_type": "markdown",
   "metadata": {},
   "source": [
    "**Estrutura if**\n",
    "\n",
    "        A estrutura if verifica uma condição. Se a condição for verdadeira, o bloco de código associado é executado.\n",
    "\n",
    "**Estrutura if-else**\n",
    "\n",
    "        A estrutura if-else permite definir um bloco de código para ser executado se a condição for verdadeira e outro bloco para ser executado se a condição for falsa.\n",
    "\n",
    "**Estrutura if-elif-else**\n",
    "\n",
    "        A estrutura if-elif-else é usada quando há várias condições a serem verificadas. O elif (abreviação de “else if”) permite testar múltiplas condições em sequência. Se nenhuma das condições for verdadeira, o bloco else é executado.\n",
    "\n",
    "**Condicional Ternária**\n",
    "        A condicional ternária é uma forma compacta de escrever uma condição if-else em uma única linha.\n",
    "\n",
    "Operadores de Comparação e Lógicos\n",
    "Para criar condições, você pode usar operadores de comparação (como igual a, diferente de, maior que, menor que) e operadores lógicos (como e, ou, não)."
   ]
  },
  {
   "cell_type": "code",
   "execution_count": 5,
   "metadata": {},
   "outputs": [
    {
     "name": "stdout",
     "output_type": "stream",
     "text": [
      "O Numero 4567 Foi convertido para STR\n"
     ]
    }
   ],
   "source": [
    "# Solicita ao usuário que digite um nome\n",
    "nome = input('Digite um nome: ')\n",
    "\n",
    "# Verifica se a entrada é uma string\n",
    "if nome.isalpha():\n",
    "    # Se for string, imprime o nome e a quantidade de letras\n",
    "    print(f'O nome {nome} tem {len(nome)} letras')\n",
    "# Verifica se a entrada é um número\n",
    "elif nome.isdigit():\n",
    "    # Converte o número para string\n",
    "    convert = str(nome)\n",
    "    # Imprime que o número foi convertido para string\n",
    "    print(f'O Número {nome} foi convertido para STR')\n",
    "else:\n",
    "    # Imprime mensagem de erro se a entrada não for nem string nem número\n",
    "    print('Não foi possível converter')\n"
   ]
  },
  {
   "cell_type": "code",
   "execution_count": null,
   "metadata": {},
   "outputs": [],
   "source": []
  },
  {
   "cell_type": "code",
   "execution_count": null,
   "metadata": {},
   "outputs": [],
   "source": []
  },
  {
   "cell_type": "code",
   "execution_count": 6,
   "metadata": {},
   "outputs": [
    {
     "name": "stdout",
     "output_type": "stream",
     "text": [
      "-=--=--=--=--=--=--=--=--=--=--=--=--=--=--=--=--=--=--=--=-\n",
      "Vou pensar em um número entre 0 e 5. Tente adivinhar...\n",
      "-=--=--=--=--=--=--=--=--=--=--=--=--=--=--=--=--=--=--=--=-\n",
      "Parabens Voce Acertou eu pensei no 5\n"
     ]
    }
   ],
   "source": [
    "'''Escreva um programa que faça o computador “pensar” em um número \n",
    "inteiro entre 0 e 5 e peça para o usuário tentar descobrir qual foi \n",
    "o número escolhido pelo computador. O programa deverá escrever na \n",
    "tela se o usuário venceu ou perdeu.'''\n",
    "\n",
    "from random import randint \n",
    "\n",
    "pc = randint(0, 5)\n",
    "\n",
    "print('-=-' * 20)\n",
    "print('Vou pensar em um número entre 0 e 5. Tente adivinhar...')\n",
    "print('-=-' * 20)\n",
    "\n",
    "jogador = int(input('Em que número eu penseeu pensar? '))\n",
    "\n",
    "if jogador == pc:\n",
    "    print(f'Parabens Voce Acertou eu pensei no {pc}')\n",
    "elif jogador > pc:\n",
    "    print(f'Eu pensei pensou no {pc} e nao no {jogador}')\n",
    "else:\n",
    "    print(f'Voce Errou eu pensei pensou no {pc} e nao no {jogador}') "
   ]
  },
  {
   "cell_type": "code",
   "execution_count": null,
   "metadata": {},
   "outputs": [],
   "source": []
  },
  {
   "cell_type": "code",
   "execution_count": null,
   "metadata": {},
   "outputs": [],
   "source": []
  },
  {
   "cell_type": "code",
   "execution_count": null,
   "metadata": {},
   "outputs": [],
   "source": []
  },
  {
   "cell_type": "code",
   "execution_count": null,
   "metadata": {},
   "outputs": [],
   "source": []
  },
  {
   "cell_type": "code",
   "execution_count": null,
   "metadata": {},
   "outputs": [],
   "source": []
  },
  {
   "cell_type": "code",
   "execution_count": null,
   "metadata": {},
   "outputs": [],
   "source": []
  },
  {
   "cell_type": "code",
   "execution_count": null,
   "metadata": {},
   "outputs": [],
   "source": []
  },
  {
   "cell_type": "code",
   "execution_count": null,
   "metadata": {},
   "outputs": [],
   "source": []
  },
  {
   "cell_type": "code",
   "execution_count": null,
   "metadata": {},
   "outputs": [],
   "source": []
  },
  {
   "cell_type": "code",
   "execution_count": null,
   "metadata": {},
   "outputs": [],
   "source": []
  },
  {
   "cell_type": "code",
   "execution_count": null,
   "metadata": {},
   "outputs": [],
   "source": []
  },
  {
   "cell_type": "code",
   "execution_count": null,
   "metadata": {},
   "outputs": [],
   "source": []
  },
  {
   "cell_type": "code",
   "execution_count": null,
   "metadata": {},
   "outputs": [],
   "source": []
  }
 ],
 "metadata": {
  "kernelspec": {
   "display_name": "Python 3",
   "language": "python",
   "name": "python3"
  },
  "language_info": {
   "codemirror_mode": {
    "name": "ipython",
    "version": 3
   },
   "file_extension": ".py",
   "mimetype": "text/x-python",
   "name": "python",
   "nbconvert_exporter": "python",
   "pygments_lexer": "ipython3",
   "version": "3.12.5"
  }
 },
 "nbformat": 4,
 "nbformat_minor": 2
}
