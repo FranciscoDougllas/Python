{
 "cells": [
  {
   "cell_type": "code",
   "execution_count": 5,
   "metadata": {},
   "outputs": [
    {
     "name": "stdout",
     "output_type": "stream",
     "text": [
      "Francisco Douglas 30\n"
     ]
    }
   ],
   "source": [
    "#Variaveis em Python \n",
    "#declarando variaveis\n",
    "variavel = 'Francisco Douglas'\n",
    "idade = 30\n",
    "print(variavel, idade)"
   ]
  },
  {
   "cell_type": "code",
   "execution_count": 1,
   "metadata": {},
   "outputs": [
    {
     "name": "stdout",
     "output_type": "stream",
     "text": [
      "Números:\n",
      "42\n",
      "3.14\n",
      "\n",
      "Strings:\n",
      "Alice\n",
      "Olá, como você está?\n",
      "\n",
      "Booleanos:\n",
      "True\n",
      "False\n",
      "\n",
      "Listas:\n",
      "[1, 2, 3, 4, 5]\n",
      "['um', 'dois', 'três']\n",
      "\n",
      "Tuplas:\n",
      "(1, 2, 3, 4, 5)\n",
      "\n",
      "Dicionários:\n",
      "{'nome': 'Alice', 'idade': 30, 'cidade': 'Nova York'}\n",
      "\n",
      "Conjuntos:\n",
      "{1, 2, 3, 4, 5}\n"
     ]
    }
   ],
   "source": [
    "# Números\n",
    "# =========\n",
    "# Variáveis que armazenam valores numéricos\n",
    "\n",
    "inteiro = 42  # Variável que armazena um valor inteiro\n",
    "flutuante = 3.14  # Variável que armazena um valor flutuante\n",
    "\n",
    "# Strings\n",
    "# =======\n",
    "# Variáveis que armazenam sequências de caracteres\n",
    "\n",
    "nome = \"Alice\"  # Variável que armazena um nome\n",
    "frase = \"Olá, como você está?\"  # Variável que armazena uma frase\n",
    "\n",
    "# Booleanos\n",
    "# =========\n",
    "# Variáveis que armazenam valores lógicos (verdadeiro ou falso)\n",
    "\n",
    "verdadeiro = True  # Variável que armazena um valor verdadeiro\n",
    "falso = False  # Variável que armazena um valor falso\n",
    "\n",
    "# Listas\n",
    "# ======\n",
    "# Variáveis que armazenam coleções de itens\n",
    "\n",
    "lista_numeros = [1, 2, 3, 4, 5]  # Variável que armazena uma lista de números\n",
    "lista_strings = [\"um\", \"dois\", \"três\"]  # Variável que armazena uma lista de strings\n",
    "\n",
    "# Tuplas\n",
    "# ======\n",
    "# Variáveis que armazenam coleções imutáveis de itens\n",
    "\n",
    "tupla = (1, 2, 3, 4, 5)  # Variável que armazena uma tupla de números\n",
    "\n",
    "# Dicionários\n",
    "# ===========\n",
    "# Variáveis que armazenam coleções de pares chave-valor\n",
    "\n",
    "pessoa = {\n",
    "    \"nome\": \"Alice\",  # Chave que armazena o nome da pessoa\n",
    "    \"idade\": 30,  # Chave que armazena a idade da pessoa\n",
    "    \"cidade\": \"Nova York\"  # Chave que armazena a cidade da pessoa\n",
    "}\n",
    "\n",
    "# Conjuntos\n",
    "# =======\n",
    "# Variáveis que armazenam coleções não ordenadas de itens únicos\n",
    "\n",
    "conjunto = {1, 2, 3, 4, 5}  # Variável que armazena um conjunto de números\n",
    "\n",
    "# Impressão dos valores\n",
    "# ======================\n",
    "\n",
    "print(\"Números:\")\n",
    "print(inteiro)  # Impressão do valor da variável inteiro\n",
    "print(flutuante)  # Impressão do valor da variável flutuante\n",
    "\n",
    "print(\"\\nStrings:\")\n",
    "print(nome)  # Impressão do valor da variável nome\n",
    "print(frase)  # Impressão do valor da variável frase\n",
    "\n",
    "print(\"\\nBooleanos:\")\n",
    "print(verdadeiro)  # Impressão do valor da variável verdadeiro\n",
    "print(falso)  # Impressão do valor da variável falso\n",
    "\n",
    "print(\"\\nListas:\")\n",
    "print(lista_numeros)  # Impressão do valor da variável lista_numeros\n",
    "print(lista_strings)  # Impressão do valor da variável lista_strings\n",
    "\n",
    "print(\"\\nTuplas:\")\n",
    "print(tupla)  # Impressão do valor da variável tupla\n",
    "\n",
    "print(\"\\nDicionários:\")\n",
    "print(pessoa)  # Impressão do valor da variável pessoa\n",
    "\n",
    "print(\"\\nConjuntos:\")\n",
    "print(conjunto)  # Impressão do valor da variável conjunto"
   ]
  },
  {
   "cell_type": "code",
   "execution_count": null,
   "metadata": {},
   "outputs": [],
   "source": [
    "'''Isso e uma docString COmentario'''\n",
    "#Isso e um COmentario"
   ]
  },
  {
   "cell_type": "code",
   "execution_count": 2,
   "metadata": {},
   "outputs": [
    {
     "name": "stdout",
     "output_type": "stream",
     "text": [
      "Francisco tem 28 anos e Masculino\n"
     ]
    }
   ],
   "source": [
    "nome = 'Francisco'  # Variável que armazena o nome\n",
    "idade = 28  # Variável que armazena a idade\n",
    "sexo = 'Masculino'  # Variável que armazena o sexo\n",
    "\n",
    "print(f'{nome} tem {idade} anos e {sexo}')  # Impressão da mensagem com variáveis"
   ]
  },
  {
   "cell_type": "code",
   "execution_count": 3,
   "metadata": {},
   "outputs": [
    {
     "name": "stdout",
     "output_type": "stream",
     "text": [
      "Francisco Seja bem vindo ao python\n"
     ]
    }
   ],
   "source": [
    "#Faça um programa que leia o nome de uma pessoa e mostre uma mensagem de boas-vindas.\n",
    "nome = 'Francisco'\n",
    "mensagem = 'Seja bem vindo ao python'\n",
    "print(f'{nome} {mensagem}')"
   ]
  },
  {
   "cell_type": "code",
   "execution_count": 4,
   "metadata": {},
   "outputs": [
    {
     "name": "stdout",
     "output_type": "stream",
     "text": [
      "A soma de 5 + 6 = 11\n"
     ]
    }
   ],
   "source": [
    "#Crie um programa que leia dois números e mostre a soma entre eles.\n",
    "num1 = int(input('Primeiro numero: '))\n",
    "num2 = int(input('Segundo numero: '))\n",
    "soma = num1 + num2\n",
    "print(f'A soma de {num1} + {num2} = {soma}')"
   ]
  },
  {
   "cell_type": "code",
   "execution_count": 5,
   "metadata": {},
   "outputs": [
    {
     "name": "stdout",
     "output_type": "stream",
     "text": [
      "Você digitou: 445\n",
      "Tipo primitivo: <class 'str'>\n",
      "É alfanumérico? True\n",
      "É numérico? True\n",
      "É alfabético? False\n",
      "Está em maiúsculas? False\n",
      "Está em minúsculas? False\n"
     ]
    }
   ],
   "source": [
    "###Faça um programa que leia algo pelo teclado e mostre na tela o seu tipo primitivo e\n",
    "# todas as informações possíveis sobre ele.\n",
    "# Solicita ao usuário que digite algo\n",
    "entrada = input(\"Digite algo: \")\n",
    "\n",
    "# Obtém o tipo primitivo da entrada\n",
    "tipo_primitivo = type(entrada)\n",
    "\n",
    "# Exibe informações sobre a entrada\n",
    "print(f\"Você digitou: {entrada}\")\n",
    "print(f\"Tipo primitivo: {tipo_primitivo}\")\n",
    "print(f\"É alfanumérico? {entrada.isalnum()}\")\n",
    "print(f\"É numérico? {entrada.isnumeric()}\")\n",
    "print(f\"É alfabético? {entrada.isalpha()}\")\n",
    "print(f\"Está em maiúsculas? {entrada.isupper()}\")\n",
    "print(f\"Está em minúsculas? {entrada.islower()}\")\n"
   ]
  },
  {
   "cell_type": "code",
   "execution_count": 6,
   "metadata": {},
   "outputs": [
    {
     "name": "stdout",
     "output_type": "stream",
     "text": [
      "Soma: 8\n",
      "Diferença: 6\n",
      "Produto: 21\n",
      "Quociente: 3.75\n"
     ]
    }
   ],
   "source": [
    "# Exemplo de operadores aritméticos\n",
    "\n",
    "# Adição\n",
    "a = 5\n",
    "b = 3\n",
    "soma = a + b\n",
    "print(f\"Soma: {soma}\")\n",
    "\n",
    "# Subtração\n",
    "x = 10\n",
    "y = 4\n",
    "diferenca = x - y\n",
    "print(f\"Diferença: {diferenca}\")\n",
    "\n",
    "# Multiplicação\n",
    "p = 3\n",
    "q = 7\n",
    "produto = p * q\n",
    "print(f\"Produto: {produto}\")\n",
    "\n",
    "# Divisão (resultará em um número de ponto flutuante)\n",
    "num1 = 15\n",
    "num2 = 4\n",
    "quociente = num1 / num2\n",
    "print(f\"Quociente: {quociente:.2f}\")  # Exibe com 2 casas decimais\n"
   ]
  },
  {
   "cell_type": "code",
   "execution_count": 7,
   "metadata": {},
   "outputs": [
    {
     "name": "stdout",
     "output_type": "stream",
     "text": [
      "O Numero digitado foi 34 seu sucessor e 35 e antecessor 33\n"
     ]
    }
   ],
   "source": [
    "#Faça um programa que leia um número Inteiro e mostre na tela o seu sucessor e seu antecessor.\n",
    "\n",
    "num1 = int(input('Digite um numero: '))\n",
    "sucessor = num1 + 1\n",
    "antecessor = num1 - 1\n",
    "\n",
    "print(f'O Numero digitado foi {num1} seu sucessor e {sucessor} e antecessor {antecessor}')"
   ]
  },
  {
   "cell_type": "code",
   "execution_count": 11,
   "metadata": {},
   "outputs": [
    {
     "name": "stdout",
     "output_type": "stream",
     "text": [
      "O Numero digitado foi 34.0\n",
      "Seu Dobro e 68.0 seu triplo 102.0 e sua raiz 5.83\n"
     ]
    }
   ],
   "source": [
    "#Crie um algoritmo que leia um número e mostre o seu dobro, triplo e raiz quadrada.\n",
    "numero = float(input('Digite um numero: '))\n",
    "dobro = numero * 2\n",
    "triplo = numero * 3\n",
    "raiz = numero ** (1/2)\n",
    "print(f'O Numero digitado foi {numero}')\n",
    "print(f'Seu Dobro e {dobro} seu triplo {triplo} e sua raiz {raiz:.2f}')"
   ]
  },
  {
   "cell_type": "code",
   "execution_count": 1,
   "metadata": {},
   "outputs": [
    {
     "name": "stdout",
     "output_type": "stream",
     "text": [
      "O Aluno que tirou 4.56 e 7.8 tera uma media de 6.18 pontos\n"
     ]
    }
   ],
   "source": [
    "#Desenvolva um programa que leia as duas notas de um aluno, calcule e mostre a sua média.\n",
    "nota1 = float(input('Primeira nota: '))\n",
    "nota2 = float(input('Segunda Nota: '))\n",
    "media = (nota1 + nota2) / 2\n",
    "print(f'O Aluno que tirou {nota1} e {nota2} tera uma media de {media} pontos')"
   ]
  },
  {
   "cell_type": "code",
   "execution_count": 2,
   "metadata": {},
   "outputs": [
    {
     "name": "stdout",
     "output_type": "stream",
     "text": [
      "\n",
      "      O Comprimento de 45.0 Metros e equivalente a \n",
      "      0.045 Km\n",
      "      0.45 Hectometros\n",
      "      4.5 Decametros\n",
      "      450.0 Decimetros\n",
      "      4500.0 Centimetros\n",
      "      45000.0 Milimetros\n"
     ]
    }
   ],
   "source": [
    "#Escreva um programa que leia um valor em metros e o exiba convertido em centímetros e milímetros.\n",
    "v_metros = float(input('Digite o valor em Metros: M '))\n",
    "quilometro = v_metros / 1000\n",
    "hectometro = v_metros / 100\n",
    "decametro  = v_metros / 10\n",
    "\n",
    "dcimetro = v_metros * 10\n",
    "centimetro = v_metros * 100\n",
    "milimetro = v_metros * 1000\n",
    "\n",
    "print(f'''\n",
    "      O Comprimento de {v_metros} Metros e equivalente a \n",
    "      {quilometro} Km\n",
    "      {hectometro} Hectometros\n",
    "      {decametro} Decametros\n",
    "      {dcimetro} Decimetros\n",
    "      {centimetro} Centimetros\n",
    "      {milimetro} Milimetros''')"
   ]
  },
  {
   "cell_type": "code",
   "execution_count": 5,
   "metadata": {},
   "outputs": [
    {
     "name": "stdout",
     "output_type": "stream",
     "text": [
      "==========\n",
      "3 x 1 = 3\n",
      "3 x 2 = 6\n",
      "3 x 3 = 9\n",
      "3 x 4 = 12\n",
      "3 x 5 = 15\n",
      "3 x 6 = 18\n",
      "3 x 7 = 21\n",
      "3 x 8 = 24\n",
      "3 x 9 = 27\n",
      "3 x 10 = 30\n",
      "==========\n"
     ]
    }
   ],
   "source": [
    "#Faça um programa que leia um número Inteiro qualquer e mostre na tela a sua tabuada.\n",
    "n = int(input('Digite um numero para a tabuada: '))\n",
    "print(\"=\"*10)\n",
    "print(f'{n} x {1} = {n *1 }')\n",
    "print(f'{n} x {2} = {n * 2}')\n",
    "print(f'{n} x {3} = {n * 3}')\n",
    "print(f'{n} x {4} = {n * 4}')\n",
    "print(f'{n} x {5} = {n * 5}')\n",
    "print(f'{n} x {6} = {n * 6}')\n",
    "print(f'{n} x {7} = {n * 7}')\n",
    "print(f'{n} x {8} = {n * 8}')\n",
    "print(f'{n} x {9} = {n * 9}')\n",
    "print(f'{n} x {10} = {n * 10}')\n",
    "print(\"=\"*10)\n",
    "\n"
   ]
  },
  {
   "cell_type": "code",
   "execution_count": 6,
   "metadata": {},
   "outputs": [
    {
     "name": "stdout",
     "output_type": "stream",
     "text": [
      "4 x 1 = 4\n",
      "4 x 2 = 8\n",
      "4 x 3 = 12\n",
      "4 x 4 = 16\n",
      "4 x 5 = 20\n",
      "4 x 6 = 24\n",
      "4 x 7 = 28\n",
      "4 x 8 = 32\n",
      "4 x 9 = 36\n",
      "4 x 10 = 40\n"
     ]
    }
   ],
   "source": [
    "#Outra forma com for e while\n",
    "num2 = int(input('Digite um numero: '))\n",
    "for c in range(1, 11):\n",
    "    print(f'{num2} x {c} = {num2* c}')"
   ]
  },
  {
   "cell_type": "code",
   "execution_count": 9,
   "metadata": {},
   "outputs": [
    {
     "name": "stdout",
     "output_type": "stream",
     "text": [
      "4 x 1 = 4\n",
      "4 x 2 = 8\n",
      "4 x 3 = 12\n",
      "4 x 4 = 16\n",
      "4 x 5 = 20\n",
      "4 x 6 = 24\n",
      "4 x 7 = 28\n",
      "4 x 8 = 32\n",
      "4 x 9 = 36\n",
      "4 x 10 = 40\n"
     ]
    }
   ],
   "source": [
    "#Utilizando o while\n",
    "cont = 0\n",
    "while cont < 10:\n",
    "    cont += 1\n",
    "    print(f'{num2} x {cont} = {num2* cont}')"
   ]
  },
  {
   "cell_type": "code",
   "execution_count": 11,
   "metadata": {},
   "outputs": [
    {
     "name": "stdout",
     "output_type": "stream",
     "text": [
      "Uma pessoa com 10000.0 R$ e o dolar a 5.65 R$ podera compra 1769.91 U$\n"
     ]
    }
   ],
   "source": [
    "'''Crie um programa que leia quanto dinheiro uma pessoa tem na carteira \n",
    "e mostre quantos dólares ela pode comprar.'''\n",
    "\n",
    "qtd_dinheiro = float(input('Quantidade de Dinhairo: R$ '))\n",
    "valor_dolar = 5.65\n",
    "tota_dolares = qtd_dinheiro / valor_dolar\n",
    "\n",
    "print(f'Uma pessoa com {qtd_dinheiro} R$ e o dolar a {valor_dolar} R$ podera compra {tota_dolares:.2f} U$')"
   ]
  },
  {
   "cell_type": "code",
   "execution_count": 12,
   "metadata": {},
   "outputs": [
    {
     "name": "stdout",
     "output_type": "stream",
     "text": [
      "Uma parede de 5.0 x 7.0 mede ao todo 35.0 Metros²\n",
      "A Parede de 35.0 Metros² levara 17.50 Litros de Tinta para ser pintada\n"
     ]
    }
   ],
   "source": [
    "'''\n",
    " Faça um programa que leia a largura e a altura de uma parede em metros, \n",
    " calcule a sua área e a quantidade de tinta necessária para pintá-la, \n",
    " sabendo que cada litro de tinta pinta uma área de 2 metros quadrados.\n",
    "'''\n",
    "\n",
    "largura = float(input('Largura da Parede: '))\n",
    "altura = float(input('Altura da Parede: '))\n",
    "metros_q = largura * altura \n",
    "litros_tinta = metros_q / 2\n",
    "\n",
    "print(f'Uma parede de {altura} x {largura} mede ao todo {metros_q} Metros²')\n",
    "print(f'A Parede de {metros_q} Metros² levara {litros_tinta:.2f} Litros de Tinta para ser pintada')"
   ]
  },
  {
   "cell_type": "code",
   "execution_count": 13,
   "metadata": {},
   "outputs": [
    {
     "name": "stdout",
     "output_type": "stream",
     "text": [
      "O Produto que custava 1300.0 R$ com 5% de desconto passara a custa 1235.00 R$\n"
     ]
    }
   ],
   "source": [
    "'''\n",
    "Faça um algoritmo que leia o preço de um produto e mostre seu novo preço, com 5% de desconto.\n",
    "'''\n",
    "\n",
    "preco = float(input('Preço do Produto R$: '))\n",
    "novo_preco = preco * 0.95\n",
    "print(f'O Produto que custava {preco} R$ com 5% de desconto passara a custa {novo_preco:.2f} R$')"
   ]
  },
  {
   "cell_type": "code",
   "execution_count": 15,
   "metadata": {},
   "outputs": [
    {
     "name": "stdout",
     "output_type": "stream",
     "text": [
      "O Funcionario que ganhava 4600.0 R$ com 15% de aumento passara a ganha 5290.00 R$\n"
     ]
    }
   ],
   "source": [
    "'''\n",
    "Faça um algoritmo que leia o salário de um funcionário e mostre seu novo salário, com 15% de aumento.\n",
    "'''\n",
    "\n",
    "salario = float(input('Digite o salario R$: '))\n",
    "ajuste  = 15\n",
    "novo_s = salario * ((100+15) / 100)\n",
    "\n",
    "print(f'O Funcionario que ganhava {salario} R$ com 15% de aumento passara a ganha {novo_s:.2f} R$')"
   ]
  },
  {
   "cell_type": "code",
   "execution_count": 16,
   "metadata": {},
   "outputs": [
    {
     "name": "stdout",
     "output_type": "stream",
     "text": [
      "A temperatura em graus Fahrenheit é: 93.20\n"
     ]
    }
   ],
   "source": [
    "# Solicita ao usuário para inserir a temperatura em graus Celsius\n",
    "celsius = float(input(\"Digite a temperatura em graus Celsius: \"))\n",
    "\n",
    "# Converte a temperatura para graus Fahrenheit\n",
    "fahrenheit = (celsius * 9/5) + 32\n",
    "\n",
    "# Exibe o resultado\n",
    "print(f\"A temperatura em graus Fahrenheit é: {fahrenheit:.2f}\")\n"
   ]
  },
  {
   "cell_type": "code",
   "execution_count": 19,
   "metadata": {},
   "outputs": [
    {
     "name": "stdout",
     "output_type": "stream",
     "text": [
      "Um carro que percorreu 234.0 km em 5 dias tera um custo de 335.10 R$\n"
     ]
    }
   ],
   "source": [
    "'''\n",
    "Escreva um programa que pergunte a quantidade de Km percorridos por um carro alugado e \n",
    "a quantidade de dias pelos quais ele foi alugado. Calcule o preço a pagar, sabendo que \n",
    "o carro custa R$60 por dia e R$0,15 por Km rodado.\n",
    "'''\n",
    "\n",
    "qtd_km = float(input('Quantidade de Km percorridos: '))\n",
    "dias_alugado = int(input('Quantos dias ficou alugado: '))\n",
    "\n",
    "custo_total = (qtd_km * 0.15) + (dias_alugado * 60)\n",
    "\n",
    "print(f'Um carro que percorreu {qtd_km} km em {dias_alugado} dias tera um custo de {custo_total:.2f} R$')"
   ]
  },
  {
   "cell_type": "code",
   "execution_count": 1,
   "metadata": {},
   "outputs": [
    {
     "name": "stdout",
     "output_type": "stream",
     "text": [
      "O Numero Digitado foi 345.567\n",
      "O Numero Inteiro Utilizando Modulo Trunc e 345\n",
      "O Numero Convertido para Inteiro e 345\n",
      "O Numero Sem casas Decimais e 346\n"
     ]
    }
   ],
   "source": [
    "#Crie um programa que leia um número Real qualquer pelo teclado e mostre na tela a sua porção Inteira.\n",
    "from math import trunc\n",
    "\n",
    "num12 = float(input('Digite um numero: '))\n",
    "print(f'O Numero Digitado foi {num12}')\n",
    "print(f'O Numero Inteiro Utilizando Modulo Trunc e {trunc(num12)}')\n",
    "print(f'O Numero Convertido para Inteiro e {int(num12)}')\n",
    "print(f'O Numero Sem casas Decimais e {num12:.0f}')"
   ]
  },
  {
   "cell_type": "markdown",
   "metadata": {},
   "source": [
    "Igual a (==): Verifica si dos valores son iguales.\n",
    "\n",
    "Diferente de (!=): Verifica si dos valores son diferentes.\n",
    "\n",
    "Mayor que (>): Verifica si un valor es mayor que otro.\n",
    "\n",
    "Menor que (<): Verifica si un valor es menor que otro.\n",
    "\n",
    "Mayor o igual que (>=): Verifica si un valor es mayor o igual a otro.\n",
    "\n",
    "Menor o igual que (<=): Verifica si un valor es menor o igual a otro1."
   ]
  },
  {
   "cell_type": "code",
   "execution_count": 2,
   "metadata": {},
   "outputs": [
    {
     "name": "stdout",
     "output_type": "stream",
     "text": [
      "Resultado de a AND b: False\n",
      "Resultado de a OR b: True\n",
      "Resultado de NOT a: False\n",
      "Pode dirigir\n"
     ]
    }
   ],
   "source": [
    "# Exemplo de operador AND\n",
    "a = True\n",
    "b = False\n",
    "resultado_and = a and b\n",
    "print(f\"Resultado de a AND b: {resultado_and}\")  # Resultado: False\n",
    "\n",
    "# Exemplo de operador OR\n",
    "resultado_or = a or b\n",
    "print(f\"Resultado de a OR b: {resultado_or}\")  # Resultado: True\n",
    "\n",
    "# Exemplo de operador NOT\n",
    "resultado_not = not a\n",
    "print(f\"Resultado de NOT a: {resultado_not}\")  # Resultado: False\n",
    "\n",
    "# Exemplo de uso em uma condição\n",
    "idade = 20\n",
    "tem_carteira = True\n",
    "\n",
    "if idade >= 18 and tem_carteira:\n",
    "    print(\"Pode dirigir\")\n",
    "else:\n",
    "    print(\"Não pode dirigir\")\n"
   ]
  },
  {
   "cell_type": "code",
   "execution_count": 3,
   "metadata": {},
   "outputs": [
    {
     "name": "stdout",
     "output_type": "stream",
     "text": [
      "Elemento 3 está na lista: True\n",
      "Elemento 6 não está na lista: True\n",
      "a é b: True\n",
      "a não é c: True\n"
     ]
    }
   ],
   "source": [
    "# Exemplo de operador in\n",
    "lista = [1, 2, 3, 4, 5]\n",
    "elemento = 3\n",
    "resultado_in = elemento in lista\n",
    "print(f\"Elemento {elemento} está na lista: {resultado_in}\")  # Resultado: True\n",
    "\n",
    "# Exemplo de operador not in\n",
    "elemento = 6\n",
    "resultado_not_in = elemento not in lista\n",
    "print(f\"Elemento {elemento} não está na lista: {resultado_not_in}\")  # Resultado: True\n",
    "\n",
    "# Exemplo de operador is\n",
    "a = [1, 2, 3]\n",
    "b = a\n",
    "resultado_is = a is b\n",
    "print(f\"a é b: {resultado_is}\")  # Resultado: True\n",
    "\n",
    "# Exemplo de operador is not\n",
    "c = [1, 2, 3]\n",
    "resultado_is_not = a is not c\n",
    "print(f\"a não é c: {resultado_is_not}\")  # Resultado: True\n"
   ]
  },
  {
   "cell_type": "code",
   "execution_count": 4,
   "metadata": {},
   "outputs": [
    {
     "name": "stdout",
     "output_type": "stream",
     "text": [
      "O comprimento da hipotenusa é: 65.5133574166368\n"
     ]
    }
   ],
   "source": [
    "'''Faça um programa que leia o comprimento do cateto oposto e do cateto adjacente \n",
    "de um triângulo retângulo. Calcule e mostre o comprimento da hipotenusa.'''\n",
    "\n",
    "import math\n",
    "\n",
    "# Leia o comprimento do cateto oposto e do cateto adjacente\n",
    "cateto_oposto = float(input(\"Digite o comprimento do cateto oposto: \"))\n",
    "cateto_adjacente = float(input(\"Digite o comprimento do cateto adjacente: \"))\n",
    "\n",
    "# Calcule o comprimento da hipotenusa utilizando a fórmula de Pitágoras\n",
    "hipotenusa = math.sqrt(cateto_oposto**2 + cateto_adjacente**2)\n",
    "\n",
    "# Mostre o resultado\n",
    "print(\"O comprimento da hipotenusa é:\", hipotenusa)"
   ]
  },
  {
   "cell_type": "code",
   "execution_count": 1,
   "metadata": {},
   "outputs": [
    {
     "name": "stdout",
     "output_type": "stream",
     "text": [
      "O Angulo de 34.0 e equivalente a 0.56 Seno, 0.83 Cosseno e 0.67 Tangente\n"
     ]
    }
   ],
   "source": [
    "'''\n",
    "Faça um programa que leia um ângulo qualquer e mostre na tela o \n",
    "valor do seno, cosseno e tangente desse ângulo.'''\n",
    "\n",
    "from math import sin, cos, tan, radians\n",
    "\n",
    "angulo = float(input(\"Digite o valor do angulo: \"))\n",
    "seno = sin(radians(angulo))\n",
    "cosseno = cos(radians(angulo))\n",
    "tangente = tan(radians(angulo))\n",
    "\n",
    "print(f'O Angulo de {angulo} e equivalente a {seno:.2f} Seno, {cosseno:.2f} Cosseno e {tangente:.2f} Tangente')"
   ]
  },
  {
   "cell_type": "code",
   "execution_count": 4,
   "metadata": {},
   "outputs": [
    {
     "name": "stdout",
     "output_type": "stream",
     "text": [
      "O Aluno Escolhido foi joao\n"
     ]
    }
   ],
   "source": [
    "'''Um professor quer sortear um dos seus quatro alunos para apagar o quadro. \n",
    "Faça um programa que ajude ele, lendo o nome dos alunos e escrevendo na tela o nome do escolhido.'''\n",
    "\n",
    "from random import choice\n",
    "\n",
    "a1 = str(input('Primeiro aluno: '))\n",
    "a2 = str(input(\"Segundo aluno: \"))\n",
    "a3 = str(input(\"Terceiro aluno: \"))\n",
    "a4 = str(input('Quarto Aluno: '))\n",
    "\n",
    "lista = [a1, a2, a3, a4]\n",
    "escolhido = choice(lista)\n",
    "\n",
    "print(f'O Aluno Escolhido foi {escolhido}')\n"
   ]
  },
  {
   "cell_type": "code",
   "execution_count": 7,
   "metadata": {},
   "outputs": [
    {
     "name": "stdout",
     "output_type": "stream",
     "text": [
      "A Ordem de Apresentação será:\n",
      "1º: e\n",
      "2º: w\n",
      "3º: q\n",
      "4º: t\n"
     ]
    }
   ],
   "source": [
    "'''O mesmo professor do desafio 19 quer sortear a ordem de apresentação de trabalhos dos alunos. \n",
    "Faça um programa que leia o nome dos quatro alunos e mostre a ordem sorteada.'''\n",
    "\n",
    "from random import shuffle\n",
    "\n",
    "# Inicializa a lista vazia\n",
    "lista = []\n",
    "\n",
    "# Lê o nome dos quatro alunos\n",
    "for aluno in range(1, 5):\n",
    "    nome = input(f'Digite o nome do {aluno}º Aluno: ')\n",
    "    lista.append(nome)\n",
    "\n",
    "# Embaralha a lista\n",
    "shuffle(lista)\n",
    "\n",
    "# Exibe a ordem sorteada\n",
    "print('A Ordem de Apresentação será:')\n",
    "for i, nome in enumerate(lista, start=1):\n",
    "    print(f'{i}º: {nome}')\n"
   ]
  },
  {
   "cell_type": "code",
   "execution_count": 9,
   "metadata": {},
   "outputs": [
    {
     "data": {
      "text/plain": [
       "'pip install pygame'"
      ]
     },
     "execution_count": 9,
     "metadata": {},
     "output_type": "execute_result"
    }
   ],
   "source": [
    "'pip install pygame'"
   ]
  },
  {
   "cell_type": "code",
   "execution_count": 16,
   "metadata": {},
   "outputs": [
    {
     "ename": "error",
     "evalue": "No file 'arquivo.mp3' found in working directory 'c:\\Users\\franc\\Videos\\GIT-HUB-DADOS\\Python'.",
     "output_type": "error",
     "traceback": [
      "\u001b[1;31m---------------------------------------------------------------------------\u001b[0m",
      "\u001b[1;31merror\u001b[0m                                     Traceback (most recent call last)",
      "Cell \u001b[1;32mIn[16], line 7\u001b[0m\n\u001b[0;32m      4\u001b[0m pygame\u001b[38;5;241m.\u001b[39mmixer\u001b[38;5;241m.\u001b[39minit()\n\u001b[0;32m      6\u001b[0m \u001b[38;5;66;03m# Carrega o arquivo de áudio\u001b[39;00m\n\u001b[1;32m----> 7\u001b[0m \u001b[43mpygame\u001b[49m\u001b[38;5;241;43m.\u001b[39;49m\u001b[43mmixer\u001b[49m\u001b[38;5;241;43m.\u001b[39;49m\u001b[43mmusic\u001b[49m\u001b[38;5;241;43m.\u001b[39;49m\u001b[43mload\u001b[49m\u001b[43m(\u001b[49m\u001b[38;5;124;43m'\u001b[39;49m\u001b[38;5;124;43marquivo.mp3\u001b[39;49m\u001b[38;5;124;43m'\u001b[39;49m\u001b[43m)\u001b[49m\n\u001b[0;32m      9\u001b[0m \u001b[38;5;66;03m# Reproduz o áudio\u001b[39;00m\n\u001b[0;32m     10\u001b[0m pygame\u001b[38;5;241m.\u001b[39mmixer\u001b[38;5;241m.\u001b[39mmusic\u001b[38;5;241m.\u001b[39mplay()\n",
      "\u001b[1;31merror\u001b[0m: No file 'arquivo.mp3' found in working directory 'c:\\Users\\franc\\Videos\\GIT-HUB-DADOS\\Python'."
     ]
    }
   ],
   "source": [
    "import pygame\n",
    "\n",
    "# Inicializa o mixer do Pygame\n",
    "pygame.mixer.init()\n",
    "\n",
    "# Carrega o arquivo de áudio\n",
    "pygame.mixer.music.load('arquivo.mp3')\n",
    "\n",
    "# Reproduz o áudio\n",
    "pygame.mixer.music.play()\n",
    "\n",
    "# Mantém o programa rodando até que a música termine\n",
    "while pygame.mixer.music.get_busy():\n",
    "    pygame.time.Clock().tick(10)\n"
   ]
  },
  {
   "cell_type": "code",
   "execution_count": null,
   "metadata": {},
   "outputs": [],
   "source": []
  }
 ],
 "metadata": {
  "kernelspec": {
   "display_name": "Python 3",
   "language": "python",
   "name": "python3"
  },
  "language_info": {
   "codemirror_mode": {
    "name": "ipython",
    "version": 3
   },
   "file_extension": ".py",
   "mimetype": "text/x-python",
   "name": "python",
   "nbconvert_exporter": "python",
   "pygments_lexer": "ipython3",
   "version": "3.12.5"
  }
 },
 "nbformat": 4,
 "nbformat_minor": 2
}
