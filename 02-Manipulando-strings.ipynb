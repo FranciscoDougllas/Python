{
 "cells": [
  {
   "cell_type": "markdown",
   "metadata": {},
   "source": [
    "### **len(), count(), find(), replace(), upper(), lower(), capitalize(), title(), strip(), e join():**"
   ]
  },
  {
   "cell_type": "code",
   "execution_count": 1,
   "metadata": {},
   "outputs": [
    {
     "name": "stdout",
     "output_type": "stream",
     "text": [
      "Comprimento da string: 55\n",
      "Número de ocorrências de 'Python': 2\n",
      "Posição de 'Mundo': 7\n",
      "Texto após replace:   Olá, Mundo! Bem-vindo ao programação. programação é incrível!  \n",
      "Texto em maiúsculas:   OLÁ, MUNDO! BEM-VINDO AO PYTHON. PYTHON É INCRÍVEL!  \n",
      "Texto em minúsculas:   olá, mundo! bem-vindo ao python. python é incrível!  \n",
      "Texto com capitalize:   olá, mundo! bem-vindo ao python. python é incrível!  \n",
      "Texto com title:   Olá, Mundo! Bem-Vindo Ao Python. Python É Incrível!  \n",
      "Texto após strip: Olá, Mundo! Bem-vindo ao Python. Python é incrível!\n",
      "Texto após join: Olá, Mundo! Bem-vindo ao Python. Python é incrível!\n"
     ]
    }
   ],
   "source": [
    "# String de exemplo\n",
    "texto = \"  Olá, Mundo! Bem-vindo ao Python. Python é incrível!  \"\n",
    "\n",
    "# len(): Retorna o comprimento da string\n",
    "tamanho = len(texto)\n",
    "print(\"Comprimento da string:\", tamanho)\n",
    "\n",
    "# count(): Conta quantas vezes uma substring aparece na string\n",
    "contagem_python = texto.count(\"Python\")\n",
    "print(\"Número de ocorrências de 'Python':\", contagem_python)\n",
    "\n",
    "# find(): Encontra a posição da primeira ocorrência de uma substring\n",
    "posicao_mundo = texto.find(\"Mundo\")\n",
    "print(\"Posição de 'Mundo':\", posicao_mundo)\n",
    "\n",
    "# replace(): Substitui todas as ocorrências de uma substring por outra\n",
    "texto_substituido = texto.replace(\"Python\", \"programação\")\n",
    "print(\"Texto após replace:\", texto_substituido)\n",
    "\n",
    "# upper(): Converte todos os caracteres para maiúsculas\n",
    "texto_maiusculo = texto.upper()\n",
    "print(\"Texto em maiúsculas:\", texto_maiusculo)\n",
    "\n",
    "# lower(): Converte todos os caracteres para minúsculas\n",
    "texto_minusculo = texto.lower()\n",
    "print(\"Texto em minúsculas:\", texto_minusculo)\n",
    "\n",
    "# capitalize(): Converte o primeiro caractere para maiúscula e o restante para minúsculas\n",
    "texto_capitalize = texto.capitalize()\n",
    "print(\"Texto com capitalize:\", texto_capitalize)\n",
    "\n",
    "# title(): Converte o primeiro caractere de cada palavra para maiúscula\n",
    "texto_title = texto.title()\n",
    "print(\"Texto com title:\", texto_title)\n",
    "\n",
    "# strip(): Remove espaços em branco do início e do fim da string\n",
    "texto_strip = texto.strip()\n",
    "print(\"Texto após strip:\", texto_strip)\n",
    "\n",
    "# join(): Junta uma lista de strings em uma única string com um separador\n",
    "lista_palavras = texto.split()\n",
    "texto_junto = \" \".join(lista_palavras)\n",
    "print(\"Texto após join:\", texto_junto)\n"
   ]
  },
  {
   "cell_type": "code",
   "execution_count": 3,
   "metadata": {},
   "outputs": [
    {
     "name": "stdout",
     "output_type": "stream",
     "text": [
      "Seu nome em maiúsculas é: FRANCISCOD OUGLAS\n",
      "Seu nome em minúsculas é: franciscod ouglas\n",
      "Seu nome tem ao todo 16 letras (sem considerar espaços)\n",
      "Seu primeiro nome tem 10 letras\n",
      "O número de ocorrências da letra \"o\" no nome é: 2\n",
      "A posição da palavra \"Mundo\" no nome é: -1\n",
      "Nome após substituição: franciscod ouglas\n",
      "Nome com capitalize: Franciscod ouglas\n",
      "Nome com title: Franciscod Ouglas\n",
      "Nome após strip: \"franciscod ouglas\"\n",
      "Nome após join: franciscod ouglas\n"
     ]
    }
   ],
   "source": [
    "'''Crie um programa que leia o nome completo de uma pessoa e mostre:\n",
    "\n",
    "– O nome com todas as letras maiúsculas e minúsculas.\n",
    "\n",
    "– Quantas letras ao todo (sem considerar espaços).\n",
    "\n",
    "– Quantas letras tem o primeiro nome.'''\n",
    "\n",
    "# Lê o nome completo da pessoa\n",
    "nome = input('Digite o seu nome completo: ')\n",
    "\n",
    "# Nome com todas as letras maiúsculas\n",
    "nome_maiusculas = nome.upper()\n",
    "print(f'Seu nome em maiúsculas é: {nome_maiusculas}')\n",
    "\n",
    "# Nome com todas as letras minúsculas\n",
    "nome_minusculas = nome.lower()\n",
    "print(f'Seu nome em minúsculas é: {nome_minusculas}')\n",
    "\n",
    "# Quantidade de letras ao todo (sem considerar espaços)\n",
    "quantidade_letras = len(nome.replace(\" \", \"\"))\n",
    "print(f'Seu nome tem ao todo {quantidade_letras} letras (sem considerar espaços)')\n",
    "\n",
    "# Quantidade de letras do primeiro nome\n",
    "primeiro_nome = nome.split()[0]\n",
    "quantidade_primeiro_nome = len(primeiro_nome)\n",
    "print(f'Seu primeiro nome tem {quantidade_primeiro_nome} letras')\n",
    "\n",
    "# Exemplos adicionais de métodos de strings\n",
    "\n",
    "# Contagem de uma substring específica\n",
    "contagem_o = nome.count('o')\n",
    "print(f'O número de ocorrências da letra \"o\" no nome é: {contagem_o}')\n",
    "\n",
    "# Encontrar a posição de uma substring\n",
    "posicao_mundo = nome.find('Mundo')\n",
    "print(f'A posição da palavra \"Mundo\" no nome é: {posicao_mundo}')\n",
    "\n",
    "# Substituir uma substring por outra\n",
    "nome_substituido = nome.replace('Python', 'programação')\n",
    "print(f'Nome após substituição: {nome_substituido}')\n",
    "\n",
    "# Capitalizar a string (primeira letra maiúscula e o resto minúsculas)\n",
    "nome_capitalize = nome.capitalize()\n",
    "print(f'Nome com capitalize: {nome_capitalize}')\n",
    "\n",
    "# Título da string (primeira letra de cada palavra maiúscula)\n",
    "nome_title = nome.title()\n",
    "print(f'Nome com title: {nome_title}')\n",
    "\n",
    "# Remover espaços em branco do início e do fim\n",
    "nome_strip = nome.strip()\n",
    "print(f'Nome após strip: \"{nome_strip}\"')\n",
    "\n",
    "# Juntar uma lista de strings em uma única string\n",
    "lista_palavras = nome.split()\n",
    "nome_junto = \" \".join(lista_palavras)\n",
    "print(f'Nome após join: {nome_junto}')\n"
   ]
  },
  {
   "cell_type": "code",
   "execution_count": 5,
   "metadata": {},
   "outputs": [
    {
     "name": "stdout",
     "output_type": "stream",
     "text": [
      "\n",
      "O Numero digitado foi 23456\n",
      "Unidade: 6\n",
      "Dezenas: 5\n",
      "Centenas: 4\n",
      "Milhar: 3\n"
     ]
    }
   ],
   "source": [
    "'''Faça um programa que leia um número de 0 a 9999 e mostre \n",
    "na tela cada um dos dígitos separados.'''\n",
    "\n",
    "numero = int(input('Digite um numero de 0 a 9999: '))\n",
    "\n",
    "unidade = numero // 1 % 10\n",
    "dezena = numero // 10 % 10\n",
    "centena = numero // 100 % 10\n",
    "milhar = numero // 1000 % 10\n",
    "\n",
    "print(f'''\n",
    "O Numero digitado foi {numero}\n",
    "Unidade: {unidade}\n",
    "Dezenas: {dezena}\n",
    "Centenas: {centena}\n",
    "Milhar: {milhar}''')"
   ]
  },
  {
   "cell_type": "code",
   "execution_count": 6,
   "metadata": {},
   "outputs": [
    {
     "name": "stdout",
     "output_type": "stream",
     "text": [
      "A cidade não começa com o nome \"Santo\".\n"
     ]
    }
   ],
   "source": [
    "'''Crie um programa que leia o nome de uma cidade diga se ela começa ou não com o nome “SANTO”.'''\n",
    "\n",
    "cidade = input('Digite o nome de uma cidade: ')\n",
    "\n",
    "if cidade.lower().startswith('santo'):\n",
    "    print('A cidade começa com o nome \"Santo\".')\n",
    "else:\n",
    "    print('A cidade não começa com o nome \"Santo\".')"
   ]
  },
  {
   "cell_type": "code",
   "execution_count": 7,
   "metadata": {},
   "outputs": [
    {
     "name": "stdout",
     "output_type": "stream",
     "text": [
      "A letra \"A\" aparece 4 vezes na frase.\n",
      "A primeira ocorrência da letra \"A\" é na posição 1.\n",
      "A última ocorrência da letra \"A\" é na posição 7.\n"
     ]
    }
   ],
   "source": [
    "'''Faça um programa que leia uma frase pelo teclado e mostre quantas vezes aparece a letra “A”,\n",
    "em que posição ela aparece a primeira vez e em que posição ela aparece a última vez.'''\n",
    "\n",
    "frase = input('Digite uma frase: ')\n",
    "\n",
    "print(f'A letra \"A\" aparece {frase.lower().count(\"a\")} vezes na frase.')\n",
    "print(f'A primeira ocorrência da letra \"A\" é na posição {frase.lower().find(\"a\") + 1}.')\n",
    "print(f'A última ocorrência da letra \"A\" é na posição {frase.lower().rfind(\"a\") + 1}.')"
   ]
  },
  {
   "cell_type": "code",
   "execution_count": 9,
   "metadata": {},
   "outputs": [
    {
     "name": "stdout",
     "output_type": "stream",
     "text": [
      "Primeiro nome: Francisco\n",
      "Último nome: Douglas\n"
     ]
    }
   ],
   "source": [
    "'''Faça um programa que leia o nome completo de uma pessoa, \n",
    "mostrando em seguida o primeiro e o último nome separadamente.'''\n",
    "\n",
    "\n",
    "# Programa para Separar Primeiro e Último Nome\n",
    "\n",
    "# Lê o nome completo do usuário\n",
    "nome_completo = input('Digite o nome completo: ').title()\n",
    "\n",
    "# Divide o nome completo em uma lista de nomes\n",
    "nomes = nome_completo.split()\n",
    "\n",
    "# Obtém o primeiro nome (primeiro elemento da lista)\n",
    "primeiro_nome = nomes[0]\n",
    "\n",
    "# Obtém o último nome (último elemento da lista)\n",
    "ultimo_nome = nomes[-1]\n",
    "\n",
    "# Imprime o primeiro e o último nome separadamente\n",
    "print(f'Primeiro nome: {primeiro_nome}')\n",
    "print(f'Último nome: {ultimo_nome}')"
   ]
  },
  {
   "cell_type": "code",
   "execution_count": null,
   "metadata": {},
   "outputs": [],
   "source": []
  },
  {
   "cell_type": "code",
   "execution_count": null,
   "metadata": {},
   "outputs": [],
   "source": []
  },
  {
   "cell_type": "code",
   "execution_count": null,
   "metadata": {},
   "outputs": [],
   "source": []
  },
  {
   "cell_type": "code",
   "execution_count": null,
   "metadata": {},
   "outputs": [],
   "source": []
  },
  {
   "cell_type": "code",
   "execution_count": null,
   "metadata": {},
   "outputs": [],
   "source": []
  },
  {
   "cell_type": "code",
   "execution_count": null,
   "metadata": {},
   "outputs": [],
   "source": []
  }
 ],
 "metadata": {
  "kernelspec": {
   "display_name": "Python 3",
   "language": "python",
   "name": "python3"
  },
  "language_info": {
   "codemirror_mode": {
    "name": "ipython",
    "version": 3
   },
   "file_extension": ".py",
   "mimetype": "text/x-python",
   "name": "python",
   "nbconvert_exporter": "python",
   "pygments_lexer": "ipython3",
   "version": "3.12.5"
  }
 },
 "nbformat": 4,
 "nbformat_minor": 2
}
